{
 "cells": [
  {
   "cell_type": "code",
   "execution_count": null,
   "id": "019fdba9-df12-453f-8c62-2067ca8abf25",
   "metadata": {},
   "outputs": [],
   "source": [
    "import numpy as np\n",
    "import xarray as xr\n",
    "import pandas as pd\n",
    "import numpy.matlib\n",
    "import matplotlib.pyplot as plt\n",
    "import struct"
   ]
  },
  {
   "cell_type": "markdown",
   "id": "762787b6-df4a-47f3-8390-4ab6b0ebd8f2",
   "metadata": {},
   "source": [
    "# Modify z0 after terrain has been incorporated"
   ]
  },
  {
   "cell_type": "code",
   "execution_count": null,
   "id": "d4e6b2bc-e540-4b72-96e7-4640f737b0e7",
   "metadata": {},
   "outputs": [],
   "source": [
    "path_case = \"INSERT_PATH_TO_YOUR_RUN_DIRECTORY\"\n",
    "file_FE_0_topo = path_case + 'output/FE_DISPERSION.0'\n",
    "file_FE_0_ini = path_case + 'initial/FE_DISPERSION.0'\n",
    "topo_z0_trans = 10.0 # m height to modify z0s"
   ]
  },
  {
   "cell_type": "code",
   "execution_count": null,
   "id": "2fbc0005-afe6-433d-a4d4-8dc4943ac631",
   "metadata": {},
   "outputs": [],
   "source": [
    "fe_data_topo = xr.open_dataset(file_FE_0_topo)"
   ]
  },
  {
   "cell_type": "code",
   "execution_count": null,
   "id": "a3c48621-1450-4762-8c10-70d7b2ad29ea",
   "metadata": {},
   "outputs": [],
   "source": [
    "z0m = fe_data_topo.z0m.isel(time=0).values\n",
    "z0t = fe_data_topo.z0t.isel(time=0).values\n",
    "topoPos = fe_data_topo.topoPos.isel(time=0).values"
   ]
  },
  {
   "cell_type": "code",
   "execution_count": null,
   "id": "b0cd8536-1f56-4a11-8e8b-2538763140e6",
   "metadata": {},
   "outputs": [],
   "source": [
    "ind_z0mod = np.where(topoPos>topo_z0_trans)"
   ]
  },
  {
   "cell_type": "code",
   "execution_count": null,
   "id": "94b30423-26a5-4b31-aaca-840016664443",
   "metadata": {},
   "outputs": [],
   "source": [
    "z0m[ind_z0mod] = 2.0*z0m[ind_z0mod]\n",
    "z0t[ind_z0mod] = 2.0*z0t[ind_z0mod]"
   ]
  },
  {
   "cell_type": "code",
   "execution_count": null,
   "id": "4442127b-2849-4a07-85a3-5c953d4c0510",
   "metadata": {},
   "outputs": [],
   "source": [
    "ds_out = fe_data_topo"
   ]
  },
  {
   "cell_type": "code",
   "execution_count": null,
   "id": "04dff855-1020-4df2-81e0-14eb5a30c30a",
   "metadata": {},
   "outputs": [],
   "source": [
    "ds_out['z0m'][0,:,:] = z0m\n",
    "ds_out['z0t'][0,:,:] = z0t"
   ]
  },
  {
   "cell_type": "code",
   "execution_count": null,
   "id": "3c5912dc-3f36-44cb-9e90-558eada2b58b",
   "metadata": {},
   "outputs": [],
   "source": [
    "ds_out.to_netcdf(file_FE_0_ini)"
   ]
  },
  {
   "cell_type": "code",
   "execution_count": null,
   "id": "e381915f-7781-436f-b00d-c44b244d8e8b",
   "metadata": {},
   "outputs": [],
   "source": []
  },
  {
   "cell_type": "code",
   "execution_count": null,
   "id": "24f1f302-7be2-4cb6-b8b1-60619a2e9fdd",
   "metadata": {},
   "outputs": [],
   "source": []
  }
 ],
 "metadata": {
  "kernelspec": {
   "display_name": "Python 3 (ipykernel)",
   "language": "python",
   "name": "python3"
  },
  "language_info": {
   "codemirror_mode": {
    "name": "ipython",
    "version": 3
   },
   "file_extension": ".py",
   "mimetype": "text/x-python",
   "name": "python",
   "nbconvert_exporter": "python",
   "pygments_lexer": "ipython3",
   "version": "3.11.9"
  }
 },
 "nbformat": 4,
 "nbformat_minor": 5
}
