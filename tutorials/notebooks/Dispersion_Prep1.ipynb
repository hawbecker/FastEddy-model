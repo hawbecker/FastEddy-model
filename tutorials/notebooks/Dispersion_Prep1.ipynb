{
 "cells": [
  {
   "cell_type": "code",
   "execution_count": null,
   "id": "019fdba9-df12-453f-8c62-2067ca8abf25",
   "metadata": {},
   "outputs": [],
   "source": [
    "import numpy as np\n",
    "import xarray as xr\n",
    "import pandas as pd\n",
    "import numpy.matlib\n",
    "import matplotlib.pyplot as plt\n",
    "import struct\n",
    "from fetutorialfunctions import extractListedParamsFromFile"
   ]
  },
  {
   "cell_type": "markdown",
   "id": "3ba75fef-64f5-4666-bfd6-0aec16ca0fae",
   "metadata": {},
   "source": [
    "# Generate the WOA hill terrain file"
   ]
  },
  {
   "cell_type": "code",
   "execution_count": null,
   "id": "d9b72914-ed5e-421c-ac8e-cda165c0e87e",
   "metadata": {},
   "outputs": [],
   "source": [
    "path_case = \"INSERT_PATH_TO_YOUR_RUN_DIRECTORY\"\n",
    "parameters_file = path_case + 'Example07_DISPERSION_SBL.in'"
   ]
  },
  {
   "cell_type": "code",
   "execution_count": null,
   "id": "f23bd63d-8c6e-45ab-b292-3e2d7eb4b353",
   "metadata": {},
   "outputs": [],
   "source": [
    "parameters_list = ['Nx','Ny','d_xi','d_eta']\n",
    "pDict = extractListedParamsFromFile(parameters_file, parameters_list)\n",
    "Nx = pDict['Nx']\n",
    "Ny = pDict['Ny']\n",
    "dx = pDict['d_xi']\n",
    "dy = pDict['d_eta']"
   ]
  },
  {
   "cell_type": "code",
   "execution_count": null,
   "id": "828841ad-609f-475b-b8ec-d385ef725dba",
   "metadata": {},
   "outputs": [],
   "source": [
    "xPos_2d = np.tile(np.linspace(0.5*dx,(Nx-0.5)*dx,Nx,endpoint=True),(Ny,1))\n",
    "yPos_2d = np.tile(np.linspace(0.5*dy,(Ny-0.5)*dy,Ny,endpoint=True),(Nx,1)).T"
   ]
  },
  {
   "cell_type": "code",
   "execution_count": null,
   "id": "dec79f46-b355-4704-be8d-bae69591336c",
   "metadata": {},
   "outputs": [],
   "source": [
    "x0 = 0.5*(xPos_2d[0,-1]-xPos_2d[0,0])\n",
    "y0 = 0.5*(yPos_2d[-1,0]-yPos_2d[0,0])\n",
    "print('x0,y0=',x0,y0)"
   ]
  },
  {
   "cell_type": "code",
   "execution_count": null,
   "id": "a9c8b173-9612-40c0-81ab-d0f564edec53",
   "metadata": {},
   "outputs": [],
   "source": [
    "y_diff = np.abs(yPos_2d[:,0]-y0)\n",
    "y_ind = np.where(y_diff==np.min(y_diff))[0][0]\n",
    "y0 = yPos_2d[y_ind,0]\n",
    "print('y_ind=',y_ind)\n",
    "print('y0=',y0)"
   ]
  },
  {
   "cell_type": "code",
   "execution_count": null,
   "id": "ff593b0d-6d7f-4da3-90f7-11515c0e4b1c",
   "metadata": {},
   "outputs": [],
   "source": [
    "# Define the WOA hill\n",
    "h0 = 200.0\n",
    "ax = 30.0\n",
    "ay = 30.0 \n",
    "woa_topo = h0/(1.0 + (xPos_2d - x0)**2.0/(ax*ax) + (yPos_2d - y0)**2.0/(ay*ay))"
   ]
  },
  {
   "cell_type": "code",
   "execution_count": null,
   "id": "07ae8981-75f3-4f28-9c8f-dae9c7c93712",
   "metadata": {},
   "outputs": [],
   "source": [
    "ridge_len_h = 25\n",
    "woa_topo_ridge = np.zeros(woa_topo.shape)\n",
    "woa_c_1d = woa_topo[y_ind,:]\n",
    "print('woa_c_1d.shape=',woa_c_1d.shape)\n",
    "woa_c_2d = np.matlib.repmat(woa_c_1d, 2*ridge_len_h+1, 1)\n",
    "print('woa_c_2d.shape=',woa_c_2d.shape)\n",
    "woa_topo_ridge[y_ind-ridge_len_h:y_ind+ridge_len_h+1,:] =  woa_c_2d\n",
    "woa_topo_ridge[0:y_ind-ridge_len_h,:] = woa_topo[y_ind-(y_ind-ridge_len_h):y_ind,:]\n",
    "woa_topo_ridge[y_ind+ridge_len_h+1:Ny,:] = woa_topo[y_ind+1:y_ind+(y_ind-ridge_len_h)+2,:]"
   ]
  },
  {
   "cell_type": "code",
   "execution_count": null,
   "id": "dcbd6ce0-f017-41be-b2aa-3d088457cf69",
   "metadata": {},
   "outputs": [],
   "source": [
    "fntSize=14 # 20\n",
    "plt.rcParams['xtick.labelsize']=fntSize\n",
    "plt.rcParams['ytick.labelsize']=fntSize\n",
    "plt.rcParams['axes.linewidth']=1.25\n",
    "fntSize_legend = 10.0\n",
    "fntSize_title = 16.0\n",
    "markerSize = 7.0\n",
    "\n",
    "fig,axs = plt.subplots(1,1,sharey=False,sharex=False,figsize=(6,5))\n",
    "ax=axs\n",
    "im=ax.pcolormesh(xPos_2d,yPos_2d,woa_topo_ridge,cmap='nipy_spectral' ,shading='auto') \n",
    "\n",
    "cbar=fig.colorbar(im, ax=ax,orientation='vertical')\n",
    "\n",
    "ax.set_xlabel('x [m]',fontsize=fntSize)\n",
    "ax.set_ylabel('y [m]',fontsize=fntSize)"
   ]
  },
  {
   "cell_type": "code",
   "execution_count": null,
   "id": "22db4a2a-8ad3-40d3-b0cd-d3343655dbab",
   "metadata": {},
   "outputs": [],
   "source": [
    "FE_new_terrain = f\"{path_case}Topography_{Nx:d}x{Ny:d}.dat\"\n",
    "topoflat = bytearray(Nx*Ny*4)\n",
    "struct.pack_into(f\"{Nx*Ny:d}f\",topoflat,0,*woa_topo_ridge.flatten())\n",
    "topoFile = open(FE_new_terrain,'wb')\n",
    "topoFile.write(struct.pack('i',Nx))\n",
    "topoFile.write(struct.pack('i',Ny))\n",
    "topoFile.write(topoflat)\n",
    "topoFile.close()"
   ]
  },
  {
   "cell_type": "code",
   "execution_count": null,
   "id": "fd69352b-c207-42e8-8dd1-8b8132818985",
   "metadata": {},
   "outputs": [],
   "source": [
    "FE_new_terrain"
   ]
  },
  {
   "cell_type": "code",
   "execution_count": null,
   "id": "24f1f302-7be2-4cb6-b8b1-60619a2e9fdd",
   "metadata": {},
   "outputs": [],
   "source": []
  }
 ],
 "metadata": {
  "kernelspec": {
   "display_name": "Python 3 (ipykernel)",
   "language": "python",
   "name": "python3"
  },
  "language_info": {
   "codemirror_mode": {
    "name": "ipython",
    "version": 3
   },
   "file_extension": ".py",
   "mimetype": "text/x-python",
   "name": "python",
   "nbconvert_exporter": "python",
   "pygments_lexer": "ipython3",
   "version": "3.11.9"
  }
 },
 "nbformat": 4,
 "nbformat_minor": 5
}
