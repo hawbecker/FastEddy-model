{
 "cells": [
  {
   "cell_type": "code",
   "execution_count": null,
   "id": "727d4860-7e29-4549-b5a5-523347ccc8e1",
   "metadata": {},
   "outputs": [],
   "source": [
    "%matplotlib inline\n",
    "import os, sys\n",
    "import struct\n",
    "import numpy as np\n",
    "import numpy.matlib\n",
    "import xarray as xr\n",
    "import pandas as pd\n",
    "import matplotlib.pyplot as plt\n",
    "from matplotlib import ticker, cm, colors"
   ]
  },
  {
   "cell_type": "markdown",
   "id": "fafb39c3-81cd-44f8-bf5c-0a376cc8a6a6",
   "metadata": {},
   "source": [
    "# Create the input file with AuxScalar information"
   ]
  },
  {
   "cell_type": "code",
   "execution_count": null,
   "id": "11acaa29-c1c9-45ea-9624-6356375abcbe",
   "metadata": {},
   "outputs": [],
   "source": [
    "path_base = \"INSERT_PATH_TO_YOUR_RUN_DIRECTORY\"\n",
    "path_nc_out = path_base + 'Example07_sources.nc'"
   ]
  },
  {
   "cell_type": "code",
   "execution_count": null,
   "id": "f018697c-1610-4bfb-894e-2496ff80c61d",
   "metadata": {},
   "outputs": [],
   "source": [
    "ds_src = xr.Dataset()"
   ]
  },
  {
   "cell_type": "code",
   "execution_count": null,
   "id": "252ad3a4-82a0-4f4d-9d8b-65821902f405",
   "metadata": {},
   "outputs": [],
   "source": [
    "NhydroAuxScalars = 2\n",
    "srcDuration = 900.0\n",
    "srcStartSeconds = 2700.0\n",
    "srcMassSpecValue = 1.0"
   ]
  },
  {
   "cell_type": "code",
   "execution_count": null,
   "id": "37ce52db-664f-4d20-8513-cc175bdcf8ca",
   "metadata": {},
   "outputs": [],
   "source": [
    "locDim = 3\n",
    "srcAuxScTemporalType = np.ones(shape=(NhydroAuxScalars),dtype=np.int32)\n",
    "srcAuxScStartSeconds = srcStartSeconds*np.ones(shape=(NhydroAuxScalars),dtype=np.float32)\n",
    "srcAuxScDurationSeconds = srcDuration*np.ones(shape=(NhydroAuxScalars),dtype=np.float32)\n",
    "srcAuxScGeometryType = np.zeros(shape=(NhydroAuxScalars),dtype=np.int32)\n",
    "srcAuxScLocation = np.zeros(shape=(NhydroAuxScalars,locDim),dtype=np.float32)\n",
    "srcAuxScMassSpecType = np.zeros(shape=(NhydroAuxScalars),dtype=np.int32)\n",
    "srcAuxScMassSpecValue = srcMassSpecValue*np.ones(shape=(NhydroAuxScalars),dtype=np.float32)"
   ]
  },
  {
   "cell_type": "code",
   "execution_count": null,
   "id": "55f37e34-0962-4844-9b82-01a88f4ab6ad",
   "metadata": {},
   "outputs": [],
   "source": [
    "for i in range(NhydroAuxScalars):\n",
    "    srcAuxScLocation[i,1] = 998.0\n",
    "    srcAuxScLocation[i,2] = 28.0\n",
    "    if i == 0:\n",
    "        srcAuxScLocation[i,0] = 930.0\n",
    "    elif i == 1:\n",
    "        srcAuxScLocation[i,0] = 1082.0"
   ]
  },
  {
   "cell_type": "code",
   "execution_count": null,
   "id": "b133ead1-5eae-4a3a-a910-558d61d01bdb",
   "metadata": {},
   "outputs": [],
   "source": [
    "ds_src['srcAuxScTemporalType'] = xr.DataArray(srcAuxScTemporalType,dims=['NhydroAuxScalars'])\n",
    "ds_src['srcAuxScStartSeconds'] = xr.DataArray(srcAuxScStartSeconds,dims=['NhydroAuxScalars'])\n",
    "ds_src['srcAuxScDurationSeconds'] = xr.DataArray(srcAuxScDurationSeconds,dims=['NhydroAuxScalars'])\n",
    "ds_src['srcAuxScGeometryType'] = xr.DataArray(srcAuxScGeometryType,dims=['NhydroAuxScalars'])\n",
    "ds_src['srcAuxScLocation'] = xr.DataArray(srcAuxScLocation,dims=['NhydroAuxScalars','locDim'])  \n",
    "ds_src['srcAuxScMassSpecType'] = xr.DataArray(srcAuxScMassSpecType,dims=['NhydroAuxScalars'])\n",
    "ds_src['srcAuxScMassSpecValue'] = xr.DataArray(srcAuxScMassSpecValue,dims=['NhydroAuxScalars'])"
   ]
  },
  {
   "cell_type": "code",
   "execution_count": null,
   "id": "aab87652-7b75-4ace-ba10-d154c9cd704a",
   "metadata": {},
   "outputs": [],
   "source": [
    "for var in list(ds_src.variables):\n",
    "    print(f\"{var}: {ds_src[var].values}\")"
   ]
  },
  {
   "cell_type": "code",
   "execution_count": null,
   "id": "43716031-a84e-4505-b193-72b5916c18b1",
   "metadata": {},
   "outputs": [],
   "source": [
    "ds_src.to_netcdf(path_nc_out)"
   ]
  },
  {
   "cell_type": "code",
   "execution_count": null,
   "id": "812799f4-41d2-4041-853f-7400bbd7cdc6",
   "metadata": {},
   "outputs": [],
   "source": []
  }
 ],
 "metadata": {
  "kernelspec": {
   "display_name": "Python 3 (ipykernel)",
   "language": "python",
   "name": "python3"
  },
  "language_info": {
   "codemirror_mode": {
    "name": "ipython",
    "version": 3
   },
   "file_extension": ".py",
   "mimetype": "text/x-python",
   "name": "python",
   "nbconvert_exporter": "python",
   "pygments_lexer": "ipython3",
   "version": "3.11.9"
  }
 },
 "nbformat": 4,
 "nbformat_minor": 5
}
